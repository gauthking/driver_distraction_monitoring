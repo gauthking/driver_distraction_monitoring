{
 "cells": [
  {
   "cell_type": "code",
   "execution_count": 1,
   "id": "d661ea1f-cb56-4395-ae10-8aef0d7777bb",
   "metadata": {},
   "outputs": [],
   "source": [
    "from tensorflow.keras.applications import ResNet50\n",
    "from tensorflow.keras.preprocessing.image import ImageDataGenerator\n",
    "from tensorflow.keras.layers import Dense, Dropout, Flatten\n",
    "from tensorflow.keras.models import Model\n",
    "from tensorflow.keras.optimizers import Adam\n",
    "import tensorflow as tf\n",
    "from tensorflow.keras.callbacks import EarlyStopping, ModelCheckpoint"
   ]
  },
  {
   "cell_type": "code",
   "execution_count": 2,
   "id": "5d33a59a-a7b8-410f-818c-225c956d3d5d",
   "metadata": {},
   "outputs": [
    {
     "data": {
      "text/plain": [
       "'2.9.0'"
      ]
     },
     "execution_count": 2,
     "metadata": {},
     "output_type": "execute_result"
    }
   ],
   "source": [
    "tf.__version__"
   ]
  },
  {
   "cell_type": "code",
   "execution_count": 3,
   "id": "d9245b7d-0154-40ae-93ca-467d8d33237c",
   "metadata": {},
   "outputs": [
    {
     "data": {
      "text/plain": [
       "[PhysicalDevice(name='/physical_device:CPU:0', device_type='CPU'),\n",
       " PhysicalDevice(name='/physical_device:GPU:0', device_type='GPU')]"
      ]
     },
     "execution_count": 3,
     "metadata": {},
     "output_type": "execute_result"
    }
   ],
   "source": [
    "tf.config.get_visible_devices(\n",
    "    device_type=None\n",
    ")"
   ]
  },
  {
   "cell_type": "code",
   "execution_count": 4,
   "id": "a00d4bad-3b59-4322-bdb1-9829433c5a1b",
   "metadata": {},
   "outputs": [],
   "source": [
    "physical_devices = tf.config.list_physical_devices('GPU')\n",
    "tf.config.experimental.set_memory_growth(physical_devices[0], True)"
   ]
  },
  {
   "cell_type": "code",
   "execution_count": 5,
   "id": "06081613-8786-44e0-a5ba-10c6b2712bca",
   "metadata": {},
   "outputs": [],
   "source": [
    "train_data_dir = \"train\"\n",
    "validation_data_dir = \"val\"\n",
    "test_data_dir = \"test\""
   ]
  },
  {
   "cell_type": "code",
   "execution_count": 6,
   "id": "f8a8f1ba-8a67-45c8-a516-2a089eff1990",
   "metadata": {},
   "outputs": [],
   "source": [
    "img_width, img_height = 224, 224"
   ]
  },
  {
   "cell_type": "code",
   "execution_count": 7,
   "id": "c3c9de46-22df-42a2-ab08-fd5de07e28b6",
   "metadata": {},
   "outputs": [],
   "source": [
    "# Data Augmentation (Adjust as needed)\n",
    "train_datagen = ImageDataGenerator(\n",
    "    rescale=1./255,\n",
    "    shear_range=0.2,\n",
    "    zoom_range = 0.2,\n",
    "    horizontal_flip=True\n",
    ")\n"
   ]
  },
  {
   "cell_type": "code",
   "execution_count": 8,
   "id": "259c858e-92ce-4b32-8e19-15071c9d9450",
   "metadata": {},
   "outputs": [],
   "source": [
    "validation_datagen = ImageDataGenerator(rescale=1./255)"
   ]
  },
  {
   "cell_type": "code",
   "execution_count": 9,
   "id": "0ffe00c3-5bf9-4ad3-8f05-e68ff411a82c",
   "metadata": {},
   "outputs": [],
   "source": [
    "# Load pre-trained ResNet50 model (without top layers)\n",
    "base_model = ResNet50(weights=\"imagenet\", include_top=False, input_shape=(img_height, img_width, 3))"
   ]
  },
  {
   "cell_type": "code",
   "execution_count": 10,
   "id": "ab3b7526-1d12-4d91-9162-284f2372b682",
   "metadata": {},
   "outputs": [],
   "source": [
    "# Freeze pre-trained layers (optional)\n",
    "for layer in base_model.layers:\n",
    "    layer.trainable = False"
   ]
  },
  {
   "cell_type": "code",
   "execution_count": 11,
   "id": "1f6df2c4-9b76-4080-acef-9c1adae3a5ef",
   "metadata": {},
   "outputs": [],
   "source": [
    "# Add custom layers for classification\n",
    "x = base_model.output\n",
    "x = Flatten()(x)\n",
    "x = Dense(1024, activation=\"relu\")(x)  # Adjust number of units if needed\n",
    "x = Dropout(0.5)(x)  # Add dropout for regularization\n",
    "predictions = Dense(9, activation=\"softmax\")(x)  # Adjust for your number of classes"
   ]
  },
  {
   "cell_type": "code",
   "execution_count": 12,
   "id": "27bdc155-2c09-4f88-b0d9-04b495784119",
   "metadata": {},
   "outputs": [],
   "source": [
    "# Create final model\n",
    "model = Model(inputs=base_model.input, outputs=predictions)"
   ]
  },
  {
   "cell_type": "code",
   "execution_count": 13,
   "id": "68ed8572-b939-4015-b2e7-07c462e0fbf2",
   "metadata": {},
   "outputs": [],
   "source": [
    "# Compile the model\n",
    "model.compile(loss=\"categorical_crossentropy\", optimizer=Adam(learning_rate=0.0001), metrics=[\"accuracy\"])"
   ]
  },
  {
   "cell_type": "code",
   "execution_count": 14,
   "id": "0f509666-1b26-4711-812c-9cdc5ac15675",
   "metadata": {},
   "outputs": [],
   "source": [
    "# Callbacks\n",
    "early_stopping = EarlyStopping(monitor=\"val_loss\", patience=3)\n",
    "model_checkpoint = ModelCheckpoint(\"final_dd_model.h5\", save_best_only=True)"
   ]
  },
  {
   "cell_type": "code",
   "execution_count": 15,
   "id": "d39fe1ce-ea27-4cc8-aa06-4c9f37709213",
   "metadata": {},
   "outputs": [
    {
     "name": "stdout",
     "output_type": "stream",
     "text": [
      "Found 12894 images belonging to 9 classes.\n"
     ]
    }
   ],
   "source": [
    "# Train the model\n",
    "train_generator = train_datagen.flow_from_directory(\n",
    "    train_data_dir,\n",
    "    target_size=(img_width, img_height),\n",
    "    batch_size=32,  # Adjust batch size as needed\n",
    "    class_mode=\"categorical\"\n",
    ")"
   ]
  },
  {
   "cell_type": "code",
   "execution_count": 16,
   "id": "2c90a69b-9da5-495c-9c0b-b2ec6c10e6fb",
   "metadata": {},
   "outputs": [
    {
     "name": "stdout",
     "output_type": "stream",
     "text": [
      "Found 2765 images belonging to 9 classes.\n"
     ]
    }
   ],
   "source": [
    "validation_generator = validation_datagen.flow_from_directory(\n",
    "  validation_data_dir,\n",
    "  target_size=(img_width, img_height),\n",
    "  batch_size=32,\n",
    "  class_mode=\"categorical\"\n",
    ")"
   ]
  },
  {
   "cell_type": "code",
   "execution_count": 17,
   "id": "baaa1980-96d4-4318-8716-09d2f4a3057c",
   "metadata": {},
   "outputs": [
    {
     "name": "stderr",
     "output_type": "stream",
     "text": [
      "C:\\Temp\\ipykernel_13332\\1363156736.py:1: UserWarning: `Model.fit_generator` is deprecated and will be removed in a future version. Please use `Model.fit`, which supports generators.\n",
      "  history = model.fit_generator(\n"
     ]
    },
    {
     "name": "stdout",
     "output_type": "stream",
     "text": [
      "Epoch 1/10\n",
      "806/806 [==============================] - 582s 717ms/step - loss: 2.2762 - accuracy: 0.1341 - val_loss: 2.1437 - val_accuracy: 0.1761\n",
      "Epoch 2/10\n",
      "806/806 [==============================] - 290s 360ms/step - loss: 2.1185 - accuracy: 0.1537 - val_loss: 2.0541 - val_accuracy: 0.2047\n",
      "Epoch 3/10\n",
      "806/806 [==============================] - 130s 161ms/step - loss: 2.0778 - accuracy: 0.1619 - val_loss: 2.0110 - val_accuracy: 0.2116\n",
      "Epoch 4/10\n",
      "806/806 [==============================] - 128s 158ms/step - loss: 2.0471 - accuracy: 0.1652 - val_loss: 1.9559 - val_accuracy: 0.2394\n",
      "Epoch 5/10\n",
      "806/806 [==============================] - 128s 158ms/step - loss: 2.0279 - accuracy: 0.1674 - val_loss: 1.9800 - val_accuracy: 0.2354\n",
      "Epoch 6/10\n",
      "806/806 [==============================] - 127s 158ms/step - loss: 2.0175 - accuracy: 0.1664 - val_loss: 1.9183 - val_accuracy: 0.2459\n",
      "Epoch 7/10\n",
      "806/806 [==============================] - 127s 158ms/step - loss: 2.0049 - accuracy: 0.1729 - val_loss: 1.8849 - val_accuracy: 0.2557\n",
      "Epoch 8/10\n",
      "806/806 [==============================] - 128s 158ms/step - loss: 1.9911 - accuracy: 0.1691 - val_loss: 1.8398 - val_accuracy: 0.2608\n",
      "Epoch 9/10\n",
      "806/806 [==============================] - 128s 159ms/step - loss: 1.9861 - accuracy: 0.1736 - val_loss: 1.9092 - val_accuracy: 0.2470\n",
      "Epoch 10/10\n",
      "806/806 [==============================] - 132s 163ms/step - loss: 1.9829 - accuracy: 0.1752 - val_loss: 1.8276 - val_accuracy: 0.2593\n"
     ]
    }
   ],
   "source": [
    "history = model.fit_generator(\n",
    "  train_generator,\n",
    "  epochs=10, # Adjust epochs as needed\n",
    "  validation_data=validation_generator,\n",
    ")"
   ]
  },
  {
   "cell_type": "code",
   "execution_count": 18,
   "id": "1d4078e0-5805-4436-9722-9ca3d4b93955",
   "metadata": {},
   "outputs": [
    {
     "name": "stderr",
     "output_type": "stream",
     "text": [
      "C:\\Temp\\ipykernel_13332\\3928011442.py:2: UserWarning: `Model.evaluate_generator` is deprecated and will be removed in a future version. Please use `Model.evaluate`, which supports generators.\n",
      "  loss, accuracy = model.evaluate_generator(validation_generator)\n"
     ]
    },
    {
     "name": "stdout",
     "output_type": "stream",
     "text": [
      "Validation Loss: 1.8275530338287354\n",
      "Validation Accuracy: 0.25931283831596375\n"
     ]
    }
   ],
   "source": [
    "# Evaluate the model on the validation set (optional)\n",
    "loss, accuracy = model.evaluate_generator(validation_generator)\n",
    "print(\"Validation Loss:\", loss)\n",
    "print(\"Validation Accuracy:\", accuracy)"
   ]
  },
  {
   "cell_type": "code",
   "execution_count": 19,
   "id": "458579e8-289d-44a1-8bcd-22c16ed05e30",
   "metadata": {},
   "outputs": [],
   "source": [
    "model.save(\"final_model.h5\")"
   ]
  },
  {
   "cell_type": "code",
   "execution_count": 20,
   "id": "452e7c86-dbb4-409b-933d-8c56ceb7b5e8",
   "metadata": {},
   "outputs": [
    {
     "data": {
      "image/png": "[encoded data removed]",
      "text/plain": [
       "<Figure size 1000x500 with 2 Axes>"
      ]
     },
     "metadata": {},
     "output_type": "display_data"
    }
   ],
   "source": [
    "import matplotlib.pyplot as plt\n",
    "\n",
    "def plot(history):\n",
    "    fig = plt.figure(figsize=(10,5))\n",
    "\n",
    "    # Plot accuracy\n",
    "    plt.subplot(221)\n",
    "    plt.plot(history.history['accuracy'], 'bo--', label = \"acc\")\n",
    "    plt.plot(history.history['val_accuracy'], 'ro--', label = \"val_acc\")\n",
    "    plt.title(\"train_acc vs val_acc\")\n",
    "    plt.ylabel(\"accuracy\")\n",
    "    plt.xlabel(\"epochs\")\n",
    "    plt.legend()\n",
    "    \n",
    "    #Plot Loss function\n",
    "    plt.subplot(222)\n",
    "    plt.plot(history.history['loss'], 'bo--', label = \"loss\")\n",
    "    plt.plot(history.history['val_loss'], 'ro--', label = \"val_loss\")\n",
    "    plt.title(\"train_loss vs val_loss\")\n",
    "    plt.ylabel(\"loss\")\n",
    "    plt.xlabel(\"epochs\")\n",
    "\n",
    "    plt.legend()\n",
    "    plt.show()\n",
    "plot(history)"
   ]
  },
  {
   "cell_type": "code",
   "execution_count": null,
   "id": "e5815eef-9a9d-4e71-add9-c5451c0571f7",
   "metadata": {},
   "outputs": [],
   "source": []
  }
 ],
 "metadata": {
  "kernelspec": {
   "display_name": "Python 3 (ipykernel)",
   "language": "python",
   "name": "python3"
  },
  "language_info": {
   "codemirror_mode": {
    "name": "ipython",
    "version": 3
   },
   "file_extension": ".py",
   "mimetype": "text/x-python",
   "name": "python",
   "nbconvert_exporter": "python",
   "pygments_lexer": "ipython3",
   "version": "3.9.6"
  }
 },
 "nbformat": 4,
 "nbformat_minor": 5
}
