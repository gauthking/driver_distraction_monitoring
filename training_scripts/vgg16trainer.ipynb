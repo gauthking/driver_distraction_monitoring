{
 "cells": [
  {
   "cell_type": "code",
   "execution_count": 1,
   "id": "e871ac90-09f9-4ced-a595-3af070ca5631",
   "metadata": {},
   "outputs": [],
   "source": [
    "from tensorflow.keras.applications import VGG16\n",
    "from tensorflow.keras.preprocessing.image import ImageDataGenerator\n",
    "from tensorflow.keras.layers import Dense, Dropout, Flatten\n",
    "from tensorflow.keras.models import Model\n",
    "from tensorflow.keras.optimizers import Adam\n",
    "from tensorflow.keras.callbacks import EarlyStopping, ModelCheckpoint\n",
    "from sklearn.model_selection import train_test_split\n",
    "import numpy as np\n",
    "import tensorflow as tf"
   ]
  },
  {
   "cell_type": "code",
   "execution_count": 2,
   "id": "4dad43d3-08b0-4574-873b-fa47f4bcadc6",
   "metadata": {},
   "outputs": [],
   "source": [
    "physical_devices = tf.config.list_physical_devices('GPU')\n",
    "tf.config.experimental.set_memory_growth(physical_devices[0], True)"
   ]
  },
  {
   "cell_type": "code",
   "execution_count": 3,
   "id": "f484eb76-74b2-43eb-af42-2101f75d76be",
   "metadata": {},
   "outputs": [],
   "source": [
    "train_data_dir = \"train\"\n",
    "validation_data_dir = \"val1\"\n",
    "img_width, img_height = 224, 224"
   ]
  },
  {
   "cell_type": "code",
   "execution_count": 4,
   "id": "bd632dbd-f76b-478f-9325-56f9277fab5b",
   "metadata": {},
   "outputs": [
    {
     "name": "stderr",
     "output_type": "stream",
     "text": [
      "d:\\mainfolders\\programcodestuff\\gigs\\driver_distraction_sheenamaam\\train_scriptvgg16\\vgg16env\\lib\\site-packages\\keras\\optimizers\\optimizer_v2\\adam.py:114: UserWarning: The `lr` argument is deprecated, use `learning_rate` instead.\n",
      "  super().__init__(name, **kwargs)\n"
     ]
    },
    {
     "name": "stdout",
     "output_type": "stream",
     "text": [
      "Found 14096 images belonging to 10 classes.\n",
      "Found 6047 images belonging to 10 classes.\n"
     ]
    }
   ],
   "source": [
    "# Data Augmentation (Adjust as needed)\n",
    "train_datagen = ImageDataGenerator(\n",
    "    rescale=1./255,\n",
    "    shear_range=0.2,\n",
    "    zoom_range=0.2,\n",
    "    horizontal_flip=True\n",
    ")\n",
    "\n",
    "validation_datagen = ImageDataGenerator(rescale=1./255)\n",
    "\n",
    "# Load pre-trained VGG16 model (without top layers)\n",
    "base_model = VGG16(weights=\"imagenet\", include_top=False, input_shape=(img_height, img_width, 3))\n",
    "\n",
    "# Freeze pre-trained layers (optional)\n",
    "for layer in base_model.layers:\n",
    "  layer.trainable = False\n",
    "\n",
    "# Add custom layers for classification\n",
    "x = base_model.output\n",
    "x = Flatten()(x)\n",
    "x = Dense(1024, activation=\"relu\")(x)  # Adjust number of units if needed\n",
    "x = Dropout(0.5)(x)  # Add dropout for regularization\n",
    "predictions = Dense(10, activation=\"softmax\")(x)  # Adjust for your number of classes\n",
    "\n",
    "# Create final model\n",
    "model = Model(inputs=base_model.input, outputs=predictions)\n",
    "\n",
    "# Compile the model\n",
    "model.compile(loss=\"categorical_crossentropy\", optimizer=Adam(lr=0.0001), metrics=[\"accuracy\"])\n",
    "\n",
    "# Callbacks\n",
    "early_stopping = EarlyStopping(monitor=\"val_loss\", patience=3)\n",
    "model_checkpoint = ModelCheckpoint(\"best_vgg16_model.h5\", save_best_only=True)\n",
    "\n",
    "# Train the model\n",
    "train_generator = train_datagen.flow_from_directory(\n",
    "    train_data_dir,\n",
    "    target_size=(img_width, img_height),\n",
    "    batch_size=16,  # Adjust batch size as needed\n",
    "    class_mode=\"categorical\"\n",
    ")\n",
    "\n",
    "validation_generator = validation_datagen.flow_from_directory(\n",
    "    validation_data_dir,\n",
    "    target_size=(img_width, img_height),\n",
    "    batch_size=16,\n",
    "    class_mode=\"categorical\"\n",
    ")"
   ]
  },
  {
   "cell_type": "code",
   "execution_count": 5,
   "id": "a772c75a-fa23-4cb5-b990-70fae002ee5f",
   "metadata": {},
   "outputs": [
    {
     "name": "stdout",
     "output_type": "stream",
     "text": [
      "Epoch 1/30\n",
      "441/441 [==============================] - 174s 384ms/step - loss: 1.0297 - accuracy: 0.6720 - val_loss: 0.2711 - val_accuracy: 0.9477\n",
      "Epoch 2/30\n",
      "441/441 [==============================] - 164s 371ms/step - loss: 0.3096 - accuracy: 0.9169 - val_loss: 0.1588 - val_accuracy: 0.9611\n",
      "Epoch 3/30\n",
      "441/441 [==============================] - 164s 371ms/step - loss: 0.2091 - accuracy: 0.9421 - val_loss: 0.1031 - val_accuracy: 0.9691\n",
      "Epoch 4/30\n",
      "441/441 [==============================] - 165s 374ms/step - loss: 0.1522 - accuracy: 0.9600 - val_loss: 0.0637 - val_accuracy: 0.9848\n",
      "Epoch 5/30\n",
      "441/441 [==============================] - 166s 375ms/step - loss: 0.1273 - accuracy: 0.9651 - val_loss: 0.1114 - val_accuracy: 0.9635\n",
      "Epoch 6/30\n",
      "441/441 [==============================] - 165s 373ms/step - loss: 0.1118 - accuracy: 0.9675 - val_loss: 0.0444 - val_accuracy: 0.9884\n",
      "Epoch 7/30\n",
      "441/441 [==============================] - 168s 381ms/step - loss: 0.1026 - accuracy: 0.9702 - val_loss: 0.0590 - val_accuracy: 0.9858\n",
      "Epoch 8/30\n",
      "441/441 [==============================] - 171s 387ms/step - loss: 0.0827 - accuracy: 0.9767 - val_loss: 0.0422 - val_accuracy: 0.9864\n",
      "Epoch 9/30\n",
      "441/441 [==============================] - 165s 375ms/step - loss: 0.0817 - accuracy: 0.9752 - val_loss: 0.0437 - val_accuracy: 0.9866\n",
      "Epoch 10/30\n",
      "441/441 [==============================] - 166s 376ms/step - loss: 0.0692 - accuracy: 0.9799 - val_loss: 0.0371 - val_accuracy: 0.9901\n",
      "Epoch 11/30\n",
      "441/441 [==============================] - 164s 373ms/step - loss: 0.0723 - accuracy: 0.9778 - val_loss: 0.0254 - val_accuracy: 0.9939\n",
      "Epoch 12/30\n",
      "441/441 [==============================] - 167s 378ms/step - loss: 0.0676 - accuracy: 0.9784 - val_loss: 0.0279 - val_accuracy: 0.9931\n",
      "Epoch 13/30\n",
      "441/441 [==============================] - 165s 374ms/step - loss: 0.0722 - accuracy: 0.9764 - val_loss: 0.0340 - val_accuracy: 0.9896\n",
      "Epoch 14/30\n",
      "441/441 [==============================] - 165s 374ms/step - loss: 0.0593 - accuracy: 0.9808 - val_loss: 0.0258 - val_accuracy: 0.9932\n",
      "Epoch 15/30\n",
      "441/441 [==============================] - 198s 450ms/step - loss: 0.0590 - accuracy: 0.9796 - val_loss: 0.0305 - val_accuracy: 0.9921\n",
      "Epoch 16/30\n",
      "441/441 [==============================] - 210s 475ms/step - loss: 0.0494 - accuracy: 0.9855 - val_loss: 0.0260 - val_accuracy: 0.9931\n",
      "Epoch 17/30\n",
      "441/441 [==============================] - 165s 373ms/step - loss: 0.0556 - accuracy: 0.9824 - val_loss: 0.0267 - val_accuracy: 0.9936\n",
      "Epoch 18/30\n",
      "441/441 [==============================] - 165s 374ms/step - loss: 0.0454 - accuracy: 0.9852 - val_loss: 0.0246 - val_accuracy: 0.9945\n",
      "Epoch 19/30\n",
      "441/441 [==============================] - 164s 371ms/step - loss: 0.0489 - accuracy: 0.9841 - val_loss: 0.0398 - val_accuracy: 0.9893\n",
      "Epoch 20/30\n",
      "441/441 [==============================] - 165s 374ms/step - loss: 0.0470 - accuracy: 0.9840 - val_loss: 0.0228 - val_accuracy: 0.9940\n",
      "Epoch 21/30\n",
      "441/441 [==============================] - 164s 373ms/step - loss: 0.0416 - accuracy: 0.9863 - val_loss: 0.0181 - val_accuracy: 0.9964\n",
      "Epoch 22/30\n",
      "441/441 [==============================] - 165s 373ms/step - loss: 0.0378 - accuracy: 0.9890 - val_loss: 0.0248 - val_accuracy: 0.9940\n",
      "Epoch 23/30\n",
      "441/441 [==============================] - 164s 372ms/step - loss: 0.0448 - accuracy: 0.9847 - val_loss: 0.0182 - val_accuracy: 0.9960\n",
      "Epoch 24/30\n",
      "441/441 [==============================] - 165s 373ms/step - loss: 0.0433 - accuracy: 0.9848 - val_loss: 0.0196 - val_accuracy: 0.9945\n",
      "Epoch 25/30\n",
      "441/441 [==============================] - 165s 373ms/step - loss: 0.0328 - accuracy: 0.9898 - val_loss: 0.0409 - val_accuracy: 0.9878\n",
      "Epoch 26/30\n",
      "441/441 [==============================] - 165s 374ms/step - loss: 0.0369 - accuracy: 0.9872 - val_loss: 0.0253 - val_accuracy: 0.9927\n",
      "Epoch 27/30\n",
      "441/441 [==============================] - 165s 374ms/step - loss: 0.0393 - accuracy: 0.9873 - val_loss: 0.0235 - val_accuracy: 0.9947\n",
      "Epoch 28/30\n",
      "441/441 [==============================] - 165s 373ms/step - loss: 0.0399 - accuracy: 0.9875 - val_loss: 0.0188 - val_accuracy: 0.9955\n",
      "Epoch 29/30\n",
      "441/441 [==============================] - 167s 378ms/step - loss: 0.0327 - accuracy: 0.9896 - val_loss: 0.0211 - val_accuracy: 0.9939\n",
      "Epoch 30/30\n",
      "441/441 [==============================] - 167s 377ms/step - loss: 0.0264 - accuracy: 0.9921 - val_loss: 0.0218 - val_accuracy: 0.9950\n"
     ]
    }
   ],
   "source": [
    "history = model.fit(\n",
    "    train_generator,\n",
    "    epochs=30,  # Adjust epochs as needed\n",
    "    validation_data=validation_generator,\n",
    ")"
   ]
  },
  {
   "cell_type": "code",
   "execution_count": 6,
   "id": "06390c36-d531-4240-8f02-19c236a0e301",
   "metadata": {},
   "outputs": [
    {
     "name": "stderr",
     "output_type": "stream",
     "text": [
      "C:\\Temp\\ipykernel_4176\\3928011442.py:2: UserWarning: `Model.evaluate_generator` is deprecated and will be removed in a future version. Please use `Model.evaluate`, which supports generators.\n",
      "  loss, accuracy = model.evaluate_generator(validation_generator)\n"
     ]
    },
    {
     "name": "stdout",
     "output_type": "stream",
     "text": [
      "Validation Loss: 0.021820630878210068\n",
      "Validation Accuracy: 0.9950388669967651\n"
     ]
    }
   ],
   "source": [
    "# Evaluate the model on the validation set (optional)\n",
    "loss, accuracy = model.evaluate_generator(validation_generator)\n",
    "print(\"Validation Loss:\", loss)\n",
    "print(\"Validation Accuracy:\", accuracy)"
   ]
  },
  {
   "cell_type": "code",
   "execution_count": 7,
   "id": "976665cb-f2f5-4bb9-8632-35cfa671fb99",
   "metadata": {},
   "outputs": [],
   "source": [
    "model.save(\"model_vgg16_30epochs.h5\")"
   ]
  },
  {
   "cell_type": "code",
   "execution_count": 8,
   "id": "b35fe4b5-626d-4d32-aa20-3b11975d265e",
   "metadata": {},
   "outputs": [
    {
     "data": {
      "image/png": "[encoded data removed]",
      "text/plain": [
       "<Figure size 1000x500 with 2 Axes>"
      ]
     },
     "metadata": {},
     "output_type": "display_data"
    }
   ],
   "source": [
    "import matplotlib.pyplot as plt\n",
    "\n",
    "def plot(history):\n",
    "    fig = plt.figure(figsize=(10,5))\n",
    "\n",
    "    # Plot accuracy\n",
    "    plt.subplot(221)\n",
    "    plt.plot(history.history['accuracy'], 'bo--', label = \"acc\")\n",
    "    plt.plot(history.history['val_accuracy'], 'ro--', label = \"val_acc\")\n",
    "    plt.title(\"train_acc vs val_acc\")\n",
    "    plt.ylabel(\"accuracy\")\n",
    "    plt.xlabel(\"epochs\")\n",
    "    plt.legend()\n",
    "    \n",
    "    #Plot Loss function\n",
    "    plt.subplot(222)\n",
    "    plt.plot(history.history['loss'], 'bo--', label = \"loss\")\n",
    "    plt.plot(history.history['val_loss'], 'ro--', label = \"val_loss\")\n",
    "    plt.title(\"train_loss vs val_loss\")\n",
    "    plt.ylabel(\"loss\")\n",
    "    plt.xlabel(\"epochs\")\n",
    "\n",
    "    plt.legend()\n",
    "    plt.show()\n",
    "plot(history)"
   ]
  }
 ],
 "metadata": {
  "kernelspec": {
   "display_name": "Python 3 (ipykernel)",
   "language": "python",
   "name": "python3"
  },
  "language_info": {
   "codemirror_mode": {
    "name": "ipython",
    "version": 3
   },
   "file_extension": ".py",
   "mimetype": "text/x-python",
   "name": "python",
   "nbconvert_exporter": "python",
   "pygments_lexer": "ipython3",
   "version": "3.9.6"
  }
 },
 "nbformat": 4,
 "nbformat_minor": 5
}
